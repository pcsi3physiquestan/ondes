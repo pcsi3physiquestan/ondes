{
 "cells": [
  {
   "cell_type": "markdown",
   "id": "74bed7f0",
   "metadata": {},
   "source": [
    "# Superposition de deux ondes: Interférences et battements\n",
    "````{admonition} Compétences\n",
    ":class: tip\n",
    "* Déterminer une différence de fréquences à partir d'enregistrements de battements.\n",
    "* Exrpimer les conditions d'interférences constructives ou destructives.\n",
    "* Déterminer l'amplitude de l'onde résultante en un point en fonction du déphasage.\n",
    "* Relier le déphasage entrer les deux ondes à la différence de chemin optique.\n",
    "* Etablir l'expression de la différence de chemin optique entre deux ondes.\n",
    "````"
   ]
  }
 ],
 "metadata": {
  "jupytext": {
   "encoding": "# -*- coding: utf-8 -*-",
   "formats": "ipynb,md:myst",
   "split_at_heading": true,
   "text_representation": {
    "extension": ".md",
    "format_name": "myst",
    "format_version": 0.13,
    "jupytext_version": "1.10.3"
   }
  },
  "kernelspec": {
   "display_name": "Python 3",
   "language": "python",
   "name": "python3"
  },
  "language_info": {
   "codemirror_mode": {
    "name": "ipython",
    "version": 3
   },
   "file_extension": ".py",
   "mimetype": "text/x-python",
   "name": "python",
   "nbconvert_exporter": "python",
   "pygments_lexer": "ipython3",
   "version": "3.7.12"
  },
  "source_map": [
   15
  ]
 },
 "nbformat": 4,
 "nbformat_minor": 5
}