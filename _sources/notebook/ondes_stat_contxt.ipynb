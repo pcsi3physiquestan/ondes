{
 "cells": [
  {
   "cell_type": "markdown",
   "id": "9ad5b876",
   "metadata": {},
   "source": [
    "# Comprendre le contexte\n",
    "\n",
    "## Présentation\n",
    "\n",
    "````{important} \n",
    "__Onde stationnaire__\n",
    "\n",
    "Une onde stationnaire est le phénomène résultant de la propagation simultanée dans des sens opposés de plusieurs ondes de même fréquence et de même amplitude, dans le même milieu physique, qui forme une figure dont certains éléments sont fixes dans le temps.\n",
    "````\n",
    "\n",
    "````{margin}\n",
    "On peut très bien remplacer les fonctions sinus par des fonctions cosinus.\n",
    "````\n",
    "````{important} \n",
    "__Expression mathématique__\n",
    "\n",
    "Une onde stationnaire peut s'écrire sous la forme:\n",
    "\\begin{equation}\n",
    "y(x,t) = f(x)g(t) = A \\sin (\\omega t + \\varphi) \\sin (k x + \\psi)\n",
    "\\end{equation}\n",
    "````\n",
    "\n",
    "````{important} \n",
    "__Analyse. Noeuds et ventre.__\n",
    "\n",
    "Le terme __stationnaire__  est associé au fait que le temps et l'espace sont maintenant séparé dans deux fonctions. Il n'y a ainsi plus de propagation (cf. Animation ci-après).\n",
    "\n",
    "```{figure} ./images/Standing_wave.gif\n",
    ":name: fig_309\n",
    ":align: center\n",
    "```\n",
    "\n",
    "On observe qu'en certains points, la grandeur $y(x,t)$ __est toujours nulle__ : on appelle ces points les __noeuds.__ \n",
    "\n",
    "On observe qu'en certains points, la grandeur $y(x,t)$ __est toujours maximale__  (relativement au reste de la corde): on appelle ces points les __ventres.__ \n",
    "\n",
    "Le caractère stationnaire implique que les noeuds et les ventres sont __fixes.__ \n",
    "````\n",
    "\n",
    "````{important} \n",
    "__Superposition__\n",
    "\n",
    "On rappelle qu'une onde stationnaire est la superposition de deux ondes l'une progressive et l'autre régressive __de même amplitude et de même fréquence__  (cf. ANIMATION ci-après).\n",
    "\\begin{align*}\n",
    "y(x,t) &= A \\cos \\left(\\omega t - kx\\right) - A \\cos \\left(\\omega t + kx\\right)\\\\\n",
    "&= 2 A \\sin \\omega t \\sin kx\n",
    "\\end{align*}\n",
    "```{figure} ./images/Standing_wave_2.gif\n",
    ":name: fig_310\n",
    ":align: center\n",
    "```\n",
    "````\n",
    "\n",
    "````{margin}\n",
    "L'argument \"réflexion parfaite\" ne suffit pas pour justifier l'existence d'une onde stationnaire. Il faut utilise la nullité de la grandeur associée pour le démontrer. Nous allons voir la méthode sur l'exemple de la corde.\n",
    "````\n",
    "````{topic} __Superposition et réflexion totale__\n",
    "La manière la plus simple de réaliser une onde stationnaire et de __réfléchir parfaitement__  l'onde progressive (incidente). Dans ces conditions, l'onde réfléchie (régressive) aura la même amplitude.\n",
    "\n",
    "Une réflexion totale impose en général un __noeud__ pour l'onde stationnaire pour l'une des grandeurs. C'est en utilisant ces conditions qu'on démontre que l'onde résultante sera stationnaire (cf. exemple).\n",
    "\n",
    "* Exemple de réalisation d'une réflexion totale\n",
    "    * Miroir parfait: il permet la réflexion totale d'une onde électromagnétique en impose un champ électrique nul à sa surface.\n",
    "    * Corde: un point d'attache impose une vitesse de vibration nulle et une réflexion parfaite.\n",
    "\n",
    "````\n",
    "\n",
    "## Modes propres\n",
    "Cf. [l'exercice corrigé](md_pr). Il est important de savoir retrouver les modes propres quantifiés d'une onde stationnaire quand on a imposée 2 conditions aux limites."
   ]
  }
 ],
 "metadata": {
  "jupytext": {
   "encoding": "# -*- coding: utf-8 -*-",
   "formats": "ipynb,md:myst",
   "split_at_heading": true,
   "text_representation": {
    "extension": ".md",
    "format_name": "myst",
    "format_version": 0.13,
    "jupytext_version": "1.10.3"
   }
  },
  "kernelspec": {
   "display_name": "Python 3",
   "language": "python",
   "name": "python3"
  },
  "language_info": {
   "codemirror_mode": {
    "name": "ipython",
    "version": 3
   },
   "file_extension": ".py",
   "mimetype": "text/x-python",
   "name": "python",
   "nbconvert_exporter": "python",
   "pygments_lexer": "ipython3",
   "version": "3.7.12"
  },
  "source_map": [
   15
  ]
 },
 "nbformat": 4,
 "nbformat_minor": 5
}