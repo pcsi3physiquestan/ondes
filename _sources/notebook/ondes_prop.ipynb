{
 "cells": [
  {
   "cell_type": "markdown",
   "id": "c9509736",
   "metadata": {},
   "source": [
    "# Description des ondes\n",
    "````{admonition} Compétences\n",
    ":class: tip\n",
    "* Prévoir dans le cas d'une onde progressive, l'évolution temporelle à position fixée et l'évolution spatiale à différents instants.\n",
    "* Etablir la relation entre la fréquence, la longueur d'onde et la vitesse de phase (=célérité)\n",
    "* Reconnaître des formes de propagation : plane, circulaire, sphérique.\n",
    "````"
   ]
  }
 ],
 "metadata": {
  "jupytext": {
   "encoding": "# -*- coding: utf-8 -*-",
   "formats": "ipynb,md:myst",
   "split_at_heading": true,
   "text_representation": {
    "extension": ".md",
    "format_name": "myst",
    "format_version": 0.13,
    "jupytext_version": "1.10.3"
   }
  },
  "kernelspec": {
   "display_name": "Python 3",
   "language": "python",
   "name": "python3"
  },
  "language_info": {
   "codemirror_mode": {
    "name": "ipython",
    "version": 3
   },
   "file_extension": ".py",
   "mimetype": "text/x-python",
   "name": "python",
   "nbconvert_exporter": "python",
   "pygments_lexer": "ipython3",
   "version": "3.7.12"
  },
  "source_map": [
   15
  ]
 },
 "nbformat": 4,
 "nbformat_minor": 5
}